{
 "cells": [
  {
   "cell_type": "markdown",
   "metadata": {},
   "source": [
    "<font color=Green>\n",
    "    \n",
    "# **2.8 Transformaciones**\n",
    "\n",
    "</font>\n"
   ]
  },
  {
   "cell_type": "markdown",
   "metadata": {},
   "source": [
    "## <font color=#003d5c>_As Type_ </font>\n",
    "\n",
    "### Este método nos permite modificar el tipo de dato de los valores de un `array`"
   ]
  },
  {
   "cell_type": "code",
   "execution_count": 16,
   "metadata": {},
   "outputs": [
    {
     "data": {
      "text/plain": [
       "array([[67, 21, 51,  7],\n",
       "       [58, 23, 81, 98],\n",
       "       [85, 21, 95, 20]])"
      ]
     },
     "execution_count": 16,
     "metadata": {},
     "output_type": "execute_result"
    }
   ],
   "source": [
    "import numpy as np\n",
    "\n",
    "arr_ent = np.random.randint(100, size=(3,4))\n",
    "arr_ent"
   ]
  },
  {
   "cell_type": "code",
   "execution_count": null,
   "metadata": {},
   "outputs": [
    {
     "data": {
      "text/plain": [
       "array([[11., 12., 13., 19.],\n",
       "       [61., 18., 42., 94.],\n",
       "       [63., 27., 54., 44.]])"
      ]
     },
     "execution_count": 2,
     "metadata": {},
     "output_type": "execute_result"
    }
   ],
   "source": [
    "arr_ent.astype(float) #cambiar tipo de dato"
   ]
  },
  {
   "cell_type": "markdown",
   "metadata": {},
   "source": [
    "## <font color=#003d5c>_Sort_ </font>\n",
    "\n",
    "### Este método nos permite ordenar los valores de un `array`"
   ]
  },
  {
   "cell_type": "code",
   "execution_count": 17,
   "metadata": {},
   "outputs": [
    {
     "data": {
      "text/plain": [
       "array([[67, 21, 51,  7],\n",
       "       [58, 23, 81, 98],\n",
       "       [85, 21, 95, 20]])"
      ]
     },
     "execution_count": 17,
     "metadata": {},
     "output_type": "execute_result"
    }
   ],
   "source": [
    "arr_ent"
   ]
  },
  {
   "cell_type": "code",
   "execution_count": null,
   "metadata": {},
   "outputs": [
    {
     "data": {
      "text/plain": [
       "array([[ 7, 21, 51, 67],\n",
       "       [23, 58, 81, 98],\n",
       "       [20, 21, 85, 95]])"
      ]
     },
     "execution_count": 18,
     "metadata": {},
     "output_type": "execute_result"
    }
   ],
   "source": [
    "arr_ent.sort() #ordenar cada fila\n",
    "arr_ent"
   ]
  },
  {
   "cell_type": "code",
   "execution_count": null,
   "metadata": {},
   "outputs": [
    {
     "data": {
      "text/plain": [
       "array([[ 7, 21, 51, 67],\n",
       "       [20, 21, 81, 95],\n",
       "       [23, 58, 85, 98]])"
      ]
     },
     "execution_count": 19,
     "metadata": {},
     "output_type": "execute_result"
    }
   ],
   "source": [
    "arr_ent.sort(axis=0) #ordenar todo\n",
    "arr_ent"
   ]
  },
  {
   "cell_type": "markdown",
   "metadata": {},
   "source": [
    "## <font color=#003d5c>_Reshape_ </font>\n",
    "\n",
    "### Este método nos permite modificar las dimensiones de un `array`."
   ]
  },
  {
   "cell_type": "code",
   "execution_count": 20,
   "metadata": {},
   "outputs": [
    {
     "data": {
      "text/plain": [
       "array([[ 7, 21, 51, 67],\n",
       "       [20, 21, 81, 95],\n",
       "       [23, 58, 85, 98]])"
      ]
     },
     "execution_count": 20,
     "metadata": {},
     "output_type": "execute_result"
    }
   ],
   "source": [
    "arr_ent"
   ]
  },
  {
   "cell_type": "code",
   "execution_count": null,
   "metadata": {},
   "outputs": [
    {
     "data": {
      "text/plain": [
       "array([[ 7, 21, 51],\n",
       "       [67, 20, 21],\n",
       "       [81, 95, 23],\n",
       "       [58, 85, 98]])"
      ]
     },
     "execution_count": 21,
     "metadata": {},
     "output_type": "execute_result"
    }
   ],
   "source": [
    "arr_ent = arr_ent.reshape(4,3) #reordenar tamaño de filas y culumnas (debe tener la misma cantidad de elementos)\n",
    "arr_ent"
   ]
  },
  {
   "cell_type": "markdown",
   "metadata": {},
   "source": [
    "## <font color=#003d5c>_Flatten_ </font>\n",
    "\n",
    "### Este método crea un array unidimensional desde el original."
   ]
  },
  {
   "cell_type": "code",
   "execution_count": 23,
   "metadata": {},
   "outputs": [
    {
     "name": "stdout",
     "output_type": "stream",
     "text": [
      "[[ 7 21 51]\n",
      " [67 20 21]\n",
      " [81 95 23]\n",
      " [58 85 98]]\n",
      "[ 7 21 51 67 20 21 81 95 23 58 85 98]\n"
     ]
    }
   ],
   "source": [
    "plano_arr = arr_ent.flatten() #el array multidimensional en uno solo normal\n",
    "\n",
    "print(arr_ent)\n",
    "print(plano_arr)"
   ]
  },
  {
   "cell_type": "markdown",
   "metadata": {},
   "source": [
    "## <font color=#003d5c>_To List_ </font>\n",
    "\n",
    "### Este método crea una lista a partir de un array"
   ]
  },
  {
   "cell_type": "code",
   "execution_count": null,
   "metadata": {},
   "outputs": [
    {
     "data": {
      "text/plain": [
       "list"
      ]
     },
     "execution_count": 24,
     "metadata": {},
     "output_type": "execute_result"
    }
   ],
   "source": [
    "lista_arr = plano_arr.tolist() #cambia tipo a lista\n",
    "lista_arr\n",
    "type(lista_arr)"
   ]
  },
  {
   "cell_type": "markdown",
   "metadata": {},
   "source": [
    "## <font color=#003d5c>_Separar y juntar arrays_ </font>"
   ]
  },
  {
   "cell_type": "code",
   "execution_count": null,
   "metadata": {},
   "outputs": [
    {
     "data": {
      "text/plain": [
       "[array([[ 7, 21, 51]]),\n",
       " array([[67, 20, 21]]),\n",
       " array([[81, 95, 23]]),\n",
       " array([[58, 85, 98]])]"
      ]
     },
     "execution_count": 25,
     "metadata": {},
     "output_type": "execute_result"
    }
   ],
   "source": [
    "arrays= np.split(arr_ent,4) ~#separa en arrays, cantidad de arrays que queremos obtener\n",
    "arrays"
   ]
  },
  {
   "cell_type": "code",
   "execution_count": 35,
   "metadata": {},
   "outputs": [
    {
     "data": {
      "text/plain": [
       "array([[67, 20, 21,  7, 21, 51]])"
      ]
     },
     "execution_count": 35,
     "metadata": {},
     "output_type": "execute_result"
    }
   ],
   "source": [
    "np.concatenate((arrays[1],arrays[0]),axis=1) #0 para vertical, 1 para horizontal\n",
    "#np.concatenate((arrays[1],arrays[0]),axis=0)\n",
    "#concadena los arrays de \"arrays\" en posicion 0 y uno con una sola fila"
   ]
  },
  {
   "cell_type": "markdown",
   "metadata": {},
   "source": [
    "## <font color=#003d5c>_La matriz transpuesta_ </font>"
   ]
  },
  {
   "cell_type": "code",
   "execution_count": 36,
   "metadata": {},
   "outputs": [
    {
     "data": {
      "text/plain": [
       "array([[ 7, 21, 51],\n",
       "       [67, 20, 21],\n",
       "       [81, 95, 23],\n",
       "       [58, 85, 98]])"
      ]
     },
     "execution_count": 36,
     "metadata": {},
     "output_type": "execute_result"
    }
   ],
   "source": [
    "arr_ent"
   ]
  },
  {
   "cell_type": "code",
   "execution_count": null,
   "metadata": {},
   "outputs": [
    {
     "data": {
      "text/plain": [
       "array([[ 7, 67, 81, 58],\n",
       "       [21, 20, 95, 85],\n",
       "       [51, 21, 23, 98]])"
      ]
     },
     "execution_count": 37,
     "metadata": {},
     "output_type": "execute_result"
    }
   ],
   "source": [
    "t_arr = arr_ent.T #cambia las posiones de filas con columnas\n",
    "t_arr"
   ]
  },
  {
   "cell_type": "code",
   "execution_count": null,
   "metadata": {},
   "outputs": [],
   "source": []
  }
 ],
 "metadata": {
  "kernelspec": {
   "display_name": "base",
   "language": "python",
   "name": "python3"
  },
  "language_info": {
   "codemirror_mode": {
    "name": "ipython",
    "version": 3
   },
   "file_extension": ".py",
   "mimetype": "text/x-python",
   "name": "python",
   "nbconvert_exporter": "python",
   "pygments_lexer": "ipython3",
   "version": "3.9.13"
  }
 },
 "nbformat": 4,
 "nbformat_minor": 4
}
