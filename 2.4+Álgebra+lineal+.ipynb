{
 "cells": [
  {
   "cell_type": "markdown",
   "metadata": {},
   "source": [
    "<font color=Green>\n",
    "    \n",
    "# **2.4 Álgebra lineal**\n",
    "\n",
    "</font>\n",
    "\n",
    "## <font color=#003d5c>_Producto de arrays_ </font>"
   ]
  },
  {
   "cell_type": "code",
   "execution_count": 4,
   "metadata": {},
   "outputs": [
    {
     "data": {
      "text/plain": [
       "5.0"
      ]
     },
     "execution_count": 4,
     "metadata": {},
     "output_type": "execute_result"
    }
   ],
   "source": [
    "import numpy as np\n",
    "\n",
    "a = np.array([1, 2, 3], float) \n",
    "b = np.array([0, 1, 1], float) \n",
    "\n",
    "np.dot(b, a) #multiplicar"
   ]
  },
  {
   "cell_type": "code",
   "execution_count": null,
   "metadata": {},
   "outputs": [
    {
     "data": {
      "text/plain": [
       "5.0"
      ]
     },
     "execution_count": 3,
     "metadata": {},
     "output_type": "execute_result"
    }
   ],
   "source": [
    "a.dot(b) #array por el que lo quiero multiplicar"
   ]
  },
  {
   "cell_type": "markdown",
   "metadata": {},
   "source": [
    "## <font color=#003d5c>_Producto de matrices_ </font>"
   ]
  },
  {
   "cell_type": "code",
   "execution_count": 5,
   "metadata": {},
   "outputs": [
    {
     "name": "stdout",
     "output_type": "stream",
     "text": [
      "[[5. 2.]\n",
      " [4. 8.]] \n",
      " ---------------\n",
      "[[2. 4.]\n",
      " [5. 3.]] \n",
      " ---------------\n"
     ]
    }
   ],
   "source": [
    "a = np.array([[5, 2], [4, 8]], float) \n",
    "b = np.array([[2, 4], [5, 3]], float) \n",
    "\n",
    "print(a, \"\\n ---------------\")\n",
    "print(b, \"\\n ---------------\")"
   ]
  },
  {
   "cell_type": "code",
   "execution_count": null,
   "metadata": {},
   "outputs": [
    {
     "data": {
      "text/plain": [
       "array([[20., 26.],\n",
       "       [48., 40.]])"
      ]
     },
     "execution_count": 6,
     "metadata": {},
     "output_type": "execute_result"
    }
   ],
   "source": [
    "np.dot(a, b)\n",
    "#primero multiplica la fila del primer array por la columna del segundo, asi da los resultados 20 y 26\n",
    "#(5*2 =10) + (2*5 = 10) =20, \n",
    "# (5*4 =20) + (2*3 =6) =26 \n",
    "#luego continua con la segunda fila  el primer array que hace lo mismo\n",
    "#(4*2 =8) + (8*5 = 40) =48, \n",
    "# (4*4 =16) + (8*3 =24) =40 "
   ]
  },
  {
   "cell_type": "code",
   "execution_count": 7,
   "metadata": {},
   "outputs": [
    {
     "data": {
      "text/plain": [
       "array([[20., 26.],\n",
       "       [48., 40.]])"
      ]
     },
     "execution_count": 7,
     "metadata": {},
     "output_type": "execute_result"
    }
   ],
   "source": [
    "a @ b"
   ]
  },
  {
   "cell_type": "code",
   "execution_count": 16,
   "metadata": {},
   "outputs": [
    {
     "name": "stdout",
     "output_type": "stream",
     "text": [
      "[[0. 1. 4.]\n",
      " [5. 2. 3.]\n",
      " [1. 4. 8.]] \n",
      " ---------------\n",
      "[2. 3. 5.] \n",
      " ---------------\n"
     ]
    }
   ],
   "source": [
    "a = np.array([[0, 1, 4], [5, 2, 3], [1, 4, 8]], float) \n",
    "\n",
    "b = np.array([2, 3, 5], float) \n",
    "\n",
    "print(a,\"\\n ---------------\")\n",
    "print(b, \"\\n ---------------\")"
   ]
  },
  {
   "cell_type": "code",
   "execution_count": 14,
   "metadata": {},
   "outputs": [
    {
     "data": {
      "text/plain": [
       "array([23., 31., 54.])"
      ]
     },
     "execution_count": 14,
     "metadata": {},
     "output_type": "execute_result"
    }
   ],
   "source": [
    "np.dot(a,b)\n",
    "#(0*2=0) + (1*3=3) + (4*5=20) = 23\n",
    "#(5*2=10) + (2*3=6) + (3*5=15) = 31\n",
    "#(1*2= 2) + (4*3=12) + (8*5=40) = 54\n"
   ]
  },
  {
   "cell_type": "code",
   "execution_count": 12,
   "metadata": {},
   "outputs": [
    {
     "data": {
      "text/plain": [
       "array([23., 31., 54.])"
      ]
     },
     "execution_count": 12,
     "metadata": {},
     "output_type": "execute_result"
    }
   ],
   "source": [
    "a @ b"
   ]
  },
  {
   "cell_type": "code",
   "execution_count": 13,
   "metadata": {},
   "outputs": [
    {
     "name": "stdout",
     "output_type": "stream",
     "text": [
      "[23. 31. 54.]\n"
     ]
    }
   ],
   "source": [
    "print(np.matmul(a,b))"
   ]
  },
  {
   "cell_type": "markdown",
   "metadata": {},
   "source": [
    "## <font color=#003d5c>_Determinante de una matriz_ </font>"
   ]
  },
  {
   "cell_type": "code",
   "execution_count": 18,
   "metadata": {},
   "outputs": [
    {
     "name": "stdout",
     "output_type": "stream",
     "text": [
      "[[8 5]\n",
      " [3 4]] \n",
      " ---------------\n"
     ]
    },
    {
     "data": {
      "text/plain": [
       "17.0"
      ]
     },
     "execution_count": 18,
     "metadata": {},
     "output_type": "execute_result"
    }
   ],
   "source": [
    "a = np.array([[8, 5], [3, 4]])\n",
    "\n",
    "print(a, \"\\n ---------------\")\n",
    "\n",
    "np.linalg.det(a)\n",
    "#(8*4) - (3*5) = 32 - 15 = 17"
   ]
  },
  {
   "cell_type": "markdown",
   "metadata": {},
   "source": [
    "## <font color=#003d5c>_Auto-valores y auto-vectores_ </font>"
   ]
  },
  {
   "cell_type": "code",
   "execution_count": 20,
   "metadata": {},
   "outputs": [
    {
     "name": "stdout",
     "output_type": "stream",
     "text": [
      "[10.35889894  1.64110106] \n",
      " ---------------\n",
      "[[ 0.90440309 -0.61810602]\n",
      " [ 0.4266791   0.78609474]] \n",
      " ---------------\n"
     ]
    }
   ],
   "source": [
    "vals, vecs = np.linalg.eig(a)\n",
    "#asigna el primer elemento a la primera variable (autovalores)y el segundo a la segunda (autovectores)\n",
    "\n",
    "print(vals, \"\\n ---------------\")\n",
    "print(vecs, \"\\n ---------------\")"
   ]
  }
 ],
 "metadata": {
  "kernelspec": {
   "display_name": "base",
   "language": "python",
   "name": "python3"
  },
  "language_info": {
   "codemirror_mode": {
    "name": "ipython",
    "version": 3
   },
   "file_extension": ".py",
   "mimetype": "text/x-python",
   "name": "python",
   "nbconvert_exporter": "python",
   "pygments_lexer": "ipython3",
   "version": "3.9.13"
  }
 },
 "nbformat": 4,
 "nbformat_minor": 4
}
